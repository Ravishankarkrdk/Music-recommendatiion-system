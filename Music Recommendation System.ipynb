{
 "cells": [
  {
   "cell_type": "code",
   "execution_count": 1,
   "id": "initial_id",
   "metadata": {
    "collapsed": true,
    "ExecuteTime": {
     "end_time": "2024-03-31T10:52:07.829285Z",
     "start_time": "2024-03-31T10:52:05.831312Z"
    }
   },
   "outputs": [],
   "source": [
    "import pandas as pd\n",
    "import numpy as np"
   ]
  },
  {
   "cell_type": "code",
   "outputs": [
    {
     "data": {
      "text/plain": "          Song-Name                       Singer/Artists  \\\n0       Aankh Marey  Kumar Sanu, Mika Singh, Neha Kakkar   \n1         Coca Cola             Neha Kakkar, Tony Kakkar   \n2  Apna Time Aayega                        Ranveer Singh   \n\n                    Genre  Album/Movie User-Rating  \n0          BollywoodDance       Simmba      8.8/10  \n1  BollywoodDanceRomantic  Luka Chuppi      9.0/10  \n2          BollywoodDance    Gully Boy      9.7/10  ",
      "text/html": "<div>\n<style scoped>\n    .dataframe tbody tr th:only-of-type {\n        vertical-align: middle;\n    }\n\n    .dataframe tbody tr th {\n        vertical-align: top;\n    }\n\n    .dataframe thead th {\n        text-align: right;\n    }\n</style>\n<table border=\"1\" class=\"dataframe\">\n  <thead>\n    <tr style=\"text-align: right;\">\n      <th></th>\n      <th>Song-Name</th>\n      <th>Singer/Artists</th>\n      <th>Genre</th>\n      <th>Album/Movie</th>\n      <th>User-Rating</th>\n    </tr>\n  </thead>\n  <tbody>\n    <tr>\n      <th>0</th>\n      <td>Aankh Marey</td>\n      <td>Kumar Sanu, Mika Singh, Neha Kakkar</td>\n      <td>BollywoodDance</td>\n      <td>Simmba</td>\n      <td>8.8/10</td>\n    </tr>\n    <tr>\n      <th>1</th>\n      <td>Coca Cola</td>\n      <td>Neha Kakkar, Tony Kakkar</td>\n      <td>BollywoodDanceRomantic</td>\n      <td>Luka Chuppi</td>\n      <td>9.0/10</td>\n    </tr>\n    <tr>\n      <th>2</th>\n      <td>Apna Time Aayega</td>\n      <td>Ranveer Singh</td>\n      <td>BollywoodDance</td>\n      <td>Gully Boy</td>\n      <td>9.7/10</td>\n    </tr>\n  </tbody>\n</table>\n</div>"
     },
     "execution_count": 2,
     "metadata": {},
     "output_type": "execute_result"
    }
   ],
   "source": [
    "df= pd.read_csv('ex.csv ')\n",
    "df.head(3)"
   ],
   "metadata": {
    "collapsed": false,
    "ExecuteTime": {
     "end_time": "2024-03-31T10:52:07.896529Z",
     "start_time": "2024-03-31T10:52:07.832469Z"
    }
   },
   "id": "ab9bdb4ddb1892a4",
   "execution_count": 2
  },
  {
   "cell_type": "code",
   "outputs": [
    {
     "data": {
      "text/plain": "(2420, 5)"
     },
     "execution_count": 3,
     "metadata": {},
     "output_type": "execute_result"
    }
   ],
   "source": [
    "df.shape"
   ],
   "metadata": {
    "collapsed": false,
    "ExecuteTime": {
     "end_time": "2024-03-31T10:52:09.638560Z",
     "start_time": "2024-03-31T10:52:09.625781Z"
    }
   },
   "id": "7075b383eed0d5fc",
   "execution_count": 3
  },
  {
   "cell_type": "code",
   "outputs": [],
   "source": [
    "df = df.sample(n=11).drop('Genre',axis=1).reset_index(drop=True)"
   ],
   "metadata": {
    "collapsed": false,
    "ExecuteTime": {
     "end_time": "2024-03-31T10:52:11.040292Z",
     "start_time": "2024-03-31T10:52:11.025283Z"
    }
   },
   "id": "100333cd0a002a56",
   "execution_count": 4
  },
  {
   "cell_type": "code",
   "outputs": [],
   "source": [
    "#cleaning"
   ],
   "metadata": {
    "collapsed": false,
    "ExecuteTime": {
     "end_time": "2024-03-31T10:52:12.572237Z",
     "start_time": "2024-03-31T10:52:12.565715Z"
    }
   },
   "id": "e3c6db2e2877d1b1",
   "execution_count": 5
  },
  {
   "cell_type": "code",
   "outputs": [
    {
     "data": {
      "text/plain": "'Maahi Ve'"
     },
     "execution_count": 6,
     "metadata": {},
     "output_type": "execute_result"
    }
   ],
   "source": [
    "df['Song-Name'][0]"
   ],
   "metadata": {
    "collapsed": false,
    "ExecuteTime": {
     "end_time": "2024-03-31T10:52:14.038327Z",
     "start_time": "2024-03-31T10:52:14.028712Z"
    }
   },
   "id": "251e3cf8d68531b3",
   "execution_count": 6
  },
  {
   "cell_type": "code",
   "outputs": [],
   "source": [
    "df['Song-Name']= df['Song-Name'].str.lower().replace(r'[^\\w\\s]','').replace(r'\\n',' ',regex=True)"
   ],
   "metadata": {
    "collapsed": false,
    "ExecuteTime": {
     "end_time": "2024-03-31T10:52:15.197920Z",
     "start_time": "2024-03-31T10:52:15.184480Z"
    }
   },
   "id": "55b633a37b49376f",
   "execution_count": 7
  },
  {
   "cell_type": "code",
   "outputs": [
    {
     "data": {
      "text/plain": "'maahi ve'"
     },
     "execution_count": 8,
     "metadata": {},
     "output_type": "execute_result"
    }
   ],
   "source": [
    "df['Song-Name'][0]"
   ],
   "metadata": {
    "collapsed": false,
    "ExecuteTime": {
     "end_time": "2024-03-31T10:52:16.612749Z",
     "start_time": "2024-03-31T10:52:16.603215Z"
    }
   },
   "id": "c0bebb607332ebea",
   "execution_count": 8
  },
  {
   "cell_type": "code",
   "outputs": [],
   "source": [
    "import nltk\n",
    "from nltk.stem.porter import PorterStemmer\n",
    "\n",
    "ps = PorterStemmer()\n",
    "\n",
    "def tokenization(txt):\n",
    "    tokens= nltk.word_tokenize(txt)\n",
    "    stemming = [ps.stem(w) for w in tokens]\n",
    "    \n",
    "    return \" \".join(stemming)"
   ],
   "metadata": {
    "collapsed": false,
    "ExecuteTime": {
     "end_time": "2024-03-31T10:52:21.947960Z",
     "start_time": "2024-03-31T10:52:17.734403Z"
    }
   },
   "id": "fc8ec0f43e7f8aea",
   "execution_count": 9
  },
  {
   "cell_type": "code",
   "outputs": [],
   "source": [
    "df['Song-Name'] = df['Song-Name'].apply(lambda x: tokenization(x))"
   ],
   "metadata": {
    "collapsed": false,
    "ExecuteTime": {
     "end_time": "2024-03-31T10:52:22.001720Z",
     "start_time": "2024-03-31T10:52:21.952572Z"
    }
   },
   "id": "aae73205990e3844",
   "execution_count": 10
  },
  {
   "cell_type": "code",
   "outputs": [
    {
     "data": {
      "text/plain": "0                            maahi ve\n1                tum saath ho jab apn\n2           woh ladki bahut yaad aati\n3     band mein tha dum… vand mataram\n4                    lamhon ke rasgul\n5                       ishq da sutta\n6               hori khele raghuveera\n7                            ishq hua\n8             tauba yeh matwali chaal\n9                    jhalak dikhla ja\n10                               heer\nName: Song-Name, dtype: object"
     },
     "execution_count": 11,
     "metadata": {},
     "output_type": "execute_result"
    }
   ],
   "source": [
    "df['Song-Name']"
   ],
   "metadata": {
    "collapsed": false,
    "ExecuteTime": {
     "end_time": "2024-03-31T10:52:22.018550Z",
     "start_time": "2024-03-31T10:52:22.005745Z"
    }
   },
   "id": "a88fa74653a19e59",
   "execution_count": 11
  },
  {
   "cell_type": "code",
   "outputs": [],
   "source": [
    "from sklearn.feature_extraction.text import TfidfVectorizer\n",
    "from sklearn.metrics.pairwise import cosine_similarity"
   ],
   "metadata": {
    "collapsed": false,
    "ExecuteTime": {
     "end_time": "2024-03-31T10:53:17.856212Z",
     "start_time": "2024-03-31T10:53:17.848811Z"
    }
   },
   "id": "40fa0c15e40dff07",
   "execution_count": 24
  },
  {
   "cell_type": "code",
   "outputs": [],
   "source": [
    "tfidvector = TfidfVectorizer(analyzer='word',stop_words='english')\n",
    "matrix = tfidvector.fit_transform(df['Song-Name'])"
   ],
   "metadata": {
    "collapsed": false,
    "ExecuteTime": {
     "end_time": "2024-03-31T10:53:18.127638Z",
     "start_time": "2024-03-31T10:53:18.114553Z"
    }
   },
   "id": "139cc6ab8a68d74f",
   "execution_count": 25
  },
  {
   "cell_type": "code",
   "outputs": [
    {
     "data": {
      "text/plain": "(11, 36)"
     },
     "execution_count": 26,
     "metadata": {},
     "output_type": "execute_result"
    }
   ],
   "source": [
    "matrix.shape"
   ],
   "metadata": {
    "collapsed": false,
    "ExecuteTime": {
     "end_time": "2024-03-31T10:53:18.663516Z",
     "start_time": "2024-03-31T10:53:18.650950Z"
    }
   },
   "id": "1bbdd08875f8d566",
   "execution_count": 26
  },
  {
   "cell_type": "code",
   "outputs": [],
   "source": [
    "similarity = cosine_similarity(matrix)"
   ],
   "metadata": {
    "collapsed": false,
    "ExecuteTime": {
     "end_time": "2024-03-31T10:53:19.415596Z",
     "start_time": "2024-03-31T10:53:19.406287Z"
    }
   },
   "id": "68992ab78772329a",
   "execution_count": 27
  },
  {
   "cell_type": "code",
   "outputs": [
    {
     "data": {
      "text/plain": "array([1., 0., 0., 0., 0., 0., 0., 0., 0., 0., 0.])"
     },
     "execution_count": 28,
     "metadata": {},
     "output_type": "execute_result"
    }
   ],
   "source": [
    "similarity[0]"
   ],
   "metadata": {
    "collapsed": false,
    "ExecuteTime": {
     "end_time": "2024-03-31T10:53:20.204860Z",
     "start_time": "2024-03-31T10:53:20.192524Z"
    }
   },
   "id": "3c42e0eb700d2769",
   "execution_count": 28
  },
  {
   "cell_type": "code",
   "outputs": [
    {
     "data": {
      "text/plain": "'maahi ve'"
     },
     "execution_count": 29,
     "metadata": {},
     "output_type": "execute_result"
    }
   ],
   "source": [
    "df['Song-Name'][0]"
   ],
   "metadata": {
    "collapsed": false,
    "ExecuteTime": {
     "end_time": "2024-03-31T10:53:20.930478Z",
     "start_time": "2024-03-31T10:53:20.918724Z"
    }
   },
   "id": "953964b9a217e4af",
   "execution_count": 29
  },
  {
   "cell_type": "code",
   "outputs": [
    {
     "data": {
      "text/plain": "  Song-Name                  Singer/Artists Album/Movie User-Rating\n0  maahi ve  Richa Sharma, Sukhwinder Singh      Kaante      9.2/10",
      "text/html": "<div>\n<style scoped>\n    .dataframe tbody tr th:only-of-type {\n        vertical-align: middle;\n    }\n\n    .dataframe tbody tr th {\n        vertical-align: top;\n    }\n\n    .dataframe thead th {\n        text-align: right;\n    }\n</style>\n<table border=\"1\" class=\"dataframe\">\n  <thead>\n    <tr style=\"text-align: right;\">\n      <th></th>\n      <th>Song-Name</th>\n      <th>Singer/Artists</th>\n      <th>Album/Movie</th>\n      <th>User-Rating</th>\n    </tr>\n  </thead>\n  <tbody>\n    <tr>\n      <th>0</th>\n      <td>maahi ve</td>\n      <td>Richa Sharma, Sukhwinder Singh</td>\n      <td>Kaante</td>\n      <td>9.2/10</td>\n    </tr>\n  </tbody>\n</table>\n</div>"
     },
     "execution_count": 30,
     "metadata": {},
     "output_type": "execute_result"
    }
   ],
   "source": [
    "df[df['Song-Name']== 'maahi ve']"
   ],
   "metadata": {
    "collapsed": false,
    "ExecuteTime": {
     "end_time": "2024-03-31T10:53:32.597036Z",
     "start_time": "2024-03-31T10:53:32.578672Z"
    }
   },
   "id": "9b1b1866213d8a11",
   "execution_count": 30
  },
  {
   "cell_type": "code",
   "outputs": [
    {
     "data": {
      "text/plain": "[(1, 0.0),\n (2, 0.0),\n (3, 0.0),\n (4, 0.0),\n (5, 0.0),\n (6, 0.0),\n (7, 0.0),\n (8, 0.0),\n (9, 0.0),\n (10, 0.0),\n (0, 1.0000000000000002)]"
     },
     "execution_count": 31,
     "metadata": {},
     "output_type": "execute_result"
    }
   ],
   "source": [
    "sorted(list(enumerate(similarity[0])),reverse=False,key= lambda x:x[1])"
   ],
   "metadata": {
    "collapsed": false,
    "ExecuteTime": {
     "end_time": "2024-03-31T10:53:36.946372Z",
     "start_time": "2024-03-31T10:53:36.934765Z"
    }
   },
   "id": "cad105292d17a811",
   "execution_count": 31
  },
  {
   "cell_type": "code",
   "outputs": [],
   "source": [
    "def recommendation(song_df):\n",
    "    idx = df[df['Song-Name'] == song_df].index[0]\n",
    "    distance = sorted(list(enumerate(similarity[0])), reverse=False, key=lambda x: x[1])\n",
    "    songs = []\n",
    "    for i in distance[1:10]:\n",
    "        songs.append(df.iloc[i[0]]['Song-Name'])\n",
    "    return songs"
   ],
   "metadata": {
    "collapsed": false,
    "ExecuteTime": {
     "end_time": "2024-03-31T10:53:40.719850Z",
     "start_time": "2024-03-31T10:53:40.711548Z"
    }
   },
   "id": "5c35c5e8022d8589",
   "execution_count": 32
  },
  {
   "cell_type": "code",
   "outputs": [
    {
     "data": {
      "text/plain": "['woh ladki bahut yaad aati',\n 'band mein tha dum… vand mataram',\n 'lamhon ke rasgul',\n 'ishq da sutta',\n 'hori khele raghuveera',\n 'ishq hua',\n 'tauba yeh matwali chaal',\n 'jhalak dikhla ja',\n 'heer']"
     },
     "execution_count": 33,
     "metadata": {},
     "output_type": "execute_result"
    }
   ],
   "source": [
    "recommendation('maahi ve')"
   ],
   "metadata": {
    "collapsed": false,
    "ExecuteTime": {
     "end_time": "2024-03-31T10:53:52.505919Z",
     "start_time": "2024-03-31T10:53:52.495217Z"
    }
   },
   "id": "e2dc2f958b2279cd",
   "execution_count": 33
  },
  {
   "cell_type": "code",
   "outputs": [],
   "source": [
    "import pickle\n",
    "\n",
    "# Load pickled objects\n",
    "with open('similarity.pkl', 'rb') as similarity_file:\n",
    "    similarity = pickle.load(similarity_file)\n",
    "\n",
    "with open('df.pkl', 'rb') as df_file:\n",
    "    df = pickle.load(df_file)\n",
    "\n",
    "# Now you can use the loaded objects (similarity and df) as needed.\n"
   ],
   "metadata": {
    "collapsed": false,
    "ExecuteTime": {
     "end_time": "2024-03-31T10:53:55.786934Z",
     "start_time": "2024-03-31T10:53:55.774356Z"
    }
   },
   "id": "a13e8bc9b5ec6191",
   "execution_count": 34
  },
  {
   "cell_type": "code",
   "outputs": [],
   "source": [],
   "metadata": {
    "collapsed": false
   },
   "id": "7b9dded6a5ac16b1"
  }
 ],
 "metadata": {
  "kernelspec": {
   "display_name": "Python 3",
   "language": "python",
   "name": "python3"
  },
  "language_info": {
   "codemirror_mode": {
    "name": "ipython",
    "version": 2
   },
   "file_extension": ".py",
   "mimetype": "text/x-python",
   "name": "python",
   "nbconvert_exporter": "python",
   "pygments_lexer": "ipython2",
   "version": "2.7.6"
  }
 },
 "nbformat": 4,
 "nbformat_minor": 5
}
